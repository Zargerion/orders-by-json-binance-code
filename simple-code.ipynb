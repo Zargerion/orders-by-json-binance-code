{
 "cells": [
  {
   "cell_type": "code",
   "execution_count": 62,
   "metadata": {},
   "outputs": [],
   "source": [
    "from binance import Client, ThreadedWebsocketManager, ThreadedDepthCacheManager\n",
    "\n",
    "api = \"Your API Key\"\n",
    "secret = \"Your API Secret\"\n",
    "\n",
    "try:\n",
    "    client = Client(api, secret, testnet=True)\n",
    "except Exception as e:\n",
    "    print(\"Cannot make client\", e)"
   ]
  },
  {
   "cell_type": "code",
   "execution_count": 63,
   "metadata": {},
   "outputs": [
    {
     "name": "stdout",
     "output_type": "stream",
     "text": [
      "balance in usdt = 15000.00000000\n"
     ]
    }
   ],
   "source": [
    "try:\n",
    "    balance = client.futures_account_balance()[3]['balance']\n",
    "    print(\"balance in usdt =\", balance)\n",
    "except Exception as e:\n",
    "    print(\"Cannot get balance\", e)"
   ]
  },
  {
   "cell_type": "code",
   "execution_count": 64,
   "metadata": {},
   "outputs": [
    {
     "name": "stdout",
     "output_type": "stream",
     "text": [
      "Volume: 1000.0\n",
      "Number: 5\n",
      "Amount Difference: 5.0\n",
      "Side: SELL\n",
      "Minimum Price: 380.0\n",
      "Maximum Price: 400.0\n"
     ]
    }
   ],
   "source": [
    "import json\n",
    "\n",
    "try:\n",
    "    with open('data.json', 'r') as f:\n",
    "        data = json.load(f)\n",
    "    data\n",
    "\n",
    "    volume = data['volume']\n",
    "    number = data['number']\n",
    "    amountDif = data['amountDif']\n",
    "    side = data['side']\n",
    "    priceMin = data['priceMin']\n",
    "    priceMax = data['priceMax']\n",
    "\n",
    "    print(f'Volume: {volume}')\n",
    "    print(f'Number: {number}')\n",
    "    print(f'Amount Difference: {amountDif}')\n",
    "    print(f'Side: {side}')\n",
    "    print(f'Minimum Price: {priceMin}')\n",
    "    print(f'Maximum Price: {priceMax}')\n",
    "except Exception as e:\n",
    "    print('Cannot read json', e)"
   ]
  },
  {
   "cell_type": "code",
   "execution_count": 65,
   "metadata": {},
   "outputs": [
    {
     "name": "stdout",
     "output_type": "stream",
     "text": [
      "Average volume: 200.0\n"
     ]
    }
   ],
   "source": [
    "try:\n",
    "    avg_volume = volume / number\n",
    "    print(f'Average volume: {avg_volume}')\n",
    "except Exception as e:\n",
    "    print('Cannot get average volume', e)"
   ]
  },
  {
   "cell_type": "code",
   "execution_count": 66,
   "metadata": {},
   "outputs": [
    {
     "name": "stdout",
     "output_type": "stream",
     "text": [
      "Average prices: [394.61761649269977, 395.6786147495582, 387.15759305023636, 397.60466926629385, 388.3828220916913]\n"
     ]
    }
   ],
   "source": [
    "import random\n",
    "\n",
    "try:\n",
    "    random_prices = [random.uniform(priceMin, priceMax) for i in range(number)]\n",
    "    print(f'Average prices: {random_prices}')\n",
    "except Exception as e:\n",
    "    print('Cannot get random prices', e)"
   ]
  },
  {
   "cell_type": "code",
   "execution_count": 67,
   "metadata": {},
   "outputs": [],
   "source": [
    "def rand_vol(volume: float, amountDif: float) -> float:\n",
    "    '''It makes random volume'''\n",
    "    try:\n",
    "        min_vol = volume - amountDif\n",
    "        max_vol = volume + amountDif\n",
    "        volume = random.uniform(min_vol, max_vol)\n",
    "        return round(volume, 1)\n",
    "    except Exception as e:\n",
    "        print('Problem with function rand_vol()', e)\n",
    "        return\n",
    "    \n",
    "    "
   ]
  },
  {
   "cell_type": "code",
   "execution_count": 72,
   "metadata": {},
   "outputs": [],
   "source": [
    "order_list = []\n",
    "\n",
    "try:\n",
    "\n",
    "    for i in range(number):\n",
    "\n",
    "        usdt_volume = rand_vol(avg_volume, amountDif)\n",
    "        BNB_PRICE = client.futures_mark_price(symbol='BNBUSDT')['markPrice']\n",
    "        quantity = round(usdt_volume / float(BNB_PRICE), 1)\n",
    "\n",
    "        order = client.futures_create_order(\n",
    "            symbol='BNBUSDT',\n",
    "            side=side,\n",
    "            type='LIMIT',\n",
    "            timeInForce='GTC',\n",
    "            quantity=quantity,\n",
    "            price=round(random_prices[i], 3),\n",
    "            reduceOnly=False,\n",
    "            newOrderRespType='RESULT'\n",
    "        )\n",
    "\n",
    "        order_list.append(order)\n",
    "except Exception as e:\n",
    "        print('Cannot make orders', e)"
   ]
  },
  {
   "cell_type": "code",
   "execution_count": 73,
   "metadata": {},
   "outputs": [],
   "source": [
    "try:\n",
    "    for order in order_list:\n",
    "        result = client.futures_cancel_order(\n",
    "            symbol=order['symbol'],\n",
    "            orderId=order['orderId']\n",
    "        )\n",
    "except Exception as e:\n",
    "        print('Cannot cancel orders', e)"
   ]
  }
 ],
 "metadata": {
  "kernelspec": {
   "display_name": "Python 3",
   "language": "python",
   "name": "python3"
  },
  "language_info": {
   "codemirror_mode": {
    "name": "ipython",
    "version": 3
   },
   "file_extension": ".py",
   "mimetype": "text/x-python",
   "name": "python",
   "nbconvert_exporter": "python",
   "pygments_lexer": "ipython3",
   "version": "3.11.0"
  },
  "orig_nbformat": 4
 },
 "nbformat": 4,
 "nbformat_minor": 2
}
